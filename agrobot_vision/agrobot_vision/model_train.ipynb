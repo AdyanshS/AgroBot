{
 "cells": [
  {
   "cell_type": "code",
   "execution_count": null,
   "metadata": {},
   "outputs": [],
   "source": [
    "from ultralytics import YOLO\n",
    "\n",
    "import cv2\n"
   ]
  },
  {
   "cell_type": "code",
   "execution_count": null,
   "metadata": {},
   "outputs": [],
   "source": [
    "!pip install roboflow\n",
    "\n",
    "from roboflow import Roboflow\n",
    "rf = Roboflow(api_key=\"sPv82OqZiWWjb80CNPiG\")\n",
    "project = rf.workspace(\"agrobot-dpgqt\").project(\"agrobot-uaaxn\")\n",
    "version = project.version(1)\n",
    "dataset = version.download(\"yolov11\")\n",
    "                "
   ]
  },
  {
   "cell_type": "code",
   "execution_count": null,
   "metadata": {},
   "outputs": [],
   "source": [
    "\n",
    "# Load a model\n",
    "model = YOLO(\"yolo11n.pt\")  \n",
    "\n",
    "# Train the model with 2 GPUs\n",
    "results = model.train(\n",
    "    data=\"coco8.yaml\", \n",
    "    epochs=100, imgsz=640, \n",
    "    device=0,\n",
    "    batch=0.75,\n",
    "    resume=False,\n",
    "    plots=True)"
   ]
  },
  {
   "cell_type": "code",
   "execution_count": null,
   "metadata": {},
   "outputs": [],
   "source": []
  }
 ],
 "metadata": {
  "kernelspec": {
   "display_name": "usr",
   "language": "python",
   "name": "python3"
  },
  "language_info": {
   "name": "python",
   "version": "3.10.12"
  }
 },
 "nbformat": 4,
 "nbformat_minor": 2
}
